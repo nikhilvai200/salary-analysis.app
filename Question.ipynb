{
 "cells": [
  {
   "cell_type": "markdown",
   "id": "b28d9e44-afa4-476c-a19f-9eb8b1e02a83",
   "metadata": {},
   "source": [
    "# Key Question regarding this project\n",
    "1. How has the average salary (in USD) evolved yearly from 2020 to 2024?\n",
    "2. Which job titles offer the highest and lowest salaries?\n",
    "3. How do salaries vary by experience level (junior, mid-level, senior)?\n",
    "4. What are the highest-paying company locations?\n",
    "5. Which work model (remote, hybrid, on-site) offers the highest salaries?\n",
    "6. Does employment type (full-time, contract, freelance) affect salary significantly?\n",
    "7. How does company size influence pay for specific job titles or work models?\n",
    "8. Do larger companies pay better than smaller ones?"
   ]
  },
  {
   "cell_type": "markdown",
   "id": "3db228f4-d920-42f6-a24d-43e0835e2fff",
   "metadata": {},
   "source": [
    "# Approach to Analysis\n",
    "1. Summarize the Data: Use averages, medians, or distributions to get a high-level view.\n",
    "2. Segment the Data: Break it down by year, role, experience, location, etc.\n",
    "3. Visualize Trends: Use plots (e.g., bar plots, line graphs, boxplots) to make findings intuitive.\n",
    "4. Identify Key Insights: Look for outliers, patterns, or disparities in the data.\n"
   ]
  },
  {
   "cell_type": "code",
   "execution_count": null,
   "id": "97b30ca5-bf19-4c5a-bcea-7cfd735ab30c",
   "metadata": {},
   "outputs": [],
   "source": []
  },
  {
   "cell_type": "code",
   "execution_count": null,
   "id": "cd49ebcb-0d16-47f7-a666-8bb976fb692c",
   "metadata": {},
   "outputs": [],
   "source": []
  }
 ],
 "metadata": {
  "kernelspec": {
   "display_name": "Python 3 (ipykernel)",
   "language": "python",
   "name": "python3"
  },
  "language_info": {
   "codemirror_mode": {
    "name": "ipython",
    "version": 3
   },
   "file_extension": ".py",
   "mimetype": "text/x-python",
   "name": "python",
   "nbconvert_exporter": "python",
   "pygments_lexer": "ipython3",
   "version": "3.12.4"
  }
 },
 "nbformat": 4,
 "nbformat_minor": 5
}
